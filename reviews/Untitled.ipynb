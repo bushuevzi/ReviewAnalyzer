{
 "cells": [
  {
   "cell_type": "code",
   "execution_count": 35,
   "metadata": {},
   "outputs": [],
   "source": [
    "# импорт библиотек\n",
    "import requests, sys, webbrowser, bs4\n",
    "\n",
    "# Указываем сайт и заголовки чтобы нас не выбросило с ошибкой 403\n",
    "url = 'https://www.dns-shop.ru/product/3c49619e66c43120/120-gb-ssd-nakopitel-siliconpower-velox-v55-sp120gbss3v55s25/opinion/'\n",
    "headers = {'User-Agent': 'Mozilla/5.0 (Macintosh; Intel Mac OS X 10_11_5) AppleWebKit/537.36 (KHTML, like Gecko) Chrome/50.0.2661.102 Safari/537.36'}\n",
    "\n",
    "# Запрос\n",
    "res = requests.get(url, headers=headers)\n",
    "\n",
    "# Закидываем страницу в парсер\n",
    "soup = bs4.BeautifulSoup(res.text, 'html5lib')"
   ]
  },
  {
   "cell_type": "code",
   "execution_count": 41,
   "metadata": {},
   "outputs": [],
   "source": [
    "from bs4 import BeautifulSoup\n",
    "\n",
    "filePath = \"./HTML/Отзывы 1. Отзывы покупателей о 120 ГБ SSD-накопитель SiliconPower Velox V55 [SP120GBSS3V55S25]. Интернет-магазин DNS.html\"\n",
    "\n",
    "soup = BeautifulSoup(open(filePath), \"html5lib\")"
   ]
  },
  {
   "cell_type": "code",
   "execution_count": 42,
   "metadata": {},
   "outputs": [],
   "source": [
    "opinions_html = soup.findAll('div', {'class': 'ow-opinion__texts'})\n",
    "opinions = []\n",
    "for opinion_texts in opinions_html:\n",
    "    opinion = \"\"\n",
    "    # Каждый отзыв состоит из нескольких секций, секция состоит из заголовка и описания\n",
    "    for opinion_section in opinion_texts.contents:\n",
    "        if ((opinion_section != ' ') and not (\"Фотографии\" in opinion_section.contents[1])):\n",
    "            opinion += '{' + opinion_section.contents[1].text + '}: ' + opinion_section.contents[3].text + \"\\n\"\n",
    "    opinions.append(opinion)"
   ]
  },
  {
   "cell_type": "code",
   "execution_count": null,
   "metadata": {},
   "outputs": [],
   "source": [
    "import csv\n",
    "with open(..., 'w', newline='') as myfile:\n",
    "     wr = csv.writer(myfile, quoting=csv.QUOTE_ALL)\n",
    "     wr.writerow(mylist)"
   ]
  },
  {
   "cell_type": "code",
   "execution_count": 43,
   "metadata": {},
   "outputs": [],
   "source": [
    "for opinion in opinions:\n",
    "    print(opinion)"
   ]
  },
  {
   "cell_type": "code",
   "execution_count": null,
   "metadata": {},
   "outputs": [],
   "source": []
  }
 ],
 "metadata": {
  "kernelspec": {
   "display_name": "Python 3",
   "language": "python",
   "name": "python3"
  },
  "language_info": {
   "codemirror_mode": {
    "name": "ipython",
    "version": 3
   },
   "file_extension": ".py",
   "mimetype": "text/x-python",
   "name": "python",
   "nbconvert_exporter": "python",
   "pygments_lexer": "ipython3",
   "version": "3.7.4"
  }
 },
 "nbformat": 4,
 "nbformat_minor": 2
}
